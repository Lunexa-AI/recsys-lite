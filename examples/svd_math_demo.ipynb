{
 "cells": [
  {
   "cell_type": "code",
   "execution_count": null,
   "metadata": {
    "vscode": {
     "languageId": "plaintext"
    }
   },
   "outputs": [],
   "source": [
    "# SVD Math Demo for vector-recsys-lite\n",
    "\n",
    "This notebook demonstrates the mathematical concepts behind SVD-based recommendations.\n",
    "Perfect for teaching in resource-constrained environments - runs on old laptops!\n"
   ]
  },
  {
   "cell_type": "code",
   "execution_count": null,
   "metadata": {
    "vscode": {
     "languageId": "plaintext"
    }
   },
   "outputs": [],
   "source": [
    "## 1. Understanding the Problem\n",
    "\n",
    "Recommender systems predict missing ratings in a user-item matrix.\n",
    "SVD (Singular Value Decomposition) factorizes this matrix into latent factors.\n"
   ]
  },
  {
   "cell_type": "code",
   "execution_count": null,
   "id": "d05dfeef",
   "metadata": {},
   "outputs": [],
   "source": [
    "import numpy as np\n",
    "from vector_recsys_lite import svd_reconstruct, create_sample_ratings, visualize_svd\n",
    "\n",
    "# Create a small example matrix\n",
    "ratings = np.array([\n",
    "    [5, 3, 0, 1],  # User 0: likes items 0,1,3\n",
    "    [4, 0, 0, 1],  # User 1: likes items 0,3\n",
    "    [1, 1, 0, 5],  # User 2: likes item 3\n",
    "    [1, 0, 0, 4],  # User 3: likes item 3\n",
    "    [0, 1, 5, 4],  # User 4: likes items 1,2,3\n",
    "], dtype=np.float32)\n",
    "\n",
    "print(\"Original Ratings Matrix (0 = unrated):\")\n",
    "print(ratings)\n",
    "print(f\"\\nShape: {ratings.shape} (5 users × 4 items)\")\n"
   ]
  },
  {
   "cell_type": "code",
   "execution_count": null,
   "metadata": {},
   "outputs": [],
   "source": [
    "## 2. SVD Decomposition\n",
    "\n",
    "SVD decomposes our matrix R into three matrices:\n",
    "- **U**: User factors (users × k latent features)\n",
    "- **S**: Singular values (importance of each feature)\n",
    "- **V^T**: Item factors (k features × items)\n",
    "\n",
    "Mathematically: R ≈ U × S × V^T\n"
   ]
  },
  {
   "cell_type": "code",
   "execution_count": null,
   "id": "f8eb8a76",
   "metadata": {},
   "outputs": [],
   "source": [
    "# Perform SVD with k=2 latent factors\n",
    "k = 2\n",
    "reconstructed = svd_reconstruct(ratings, k=k)\n",
    "\n",
    "print(\"\\nSVD Factors Explanation:\")\n",
    "visualize_svd(ratings, k=k)\n"
   ]
  },
  {
   "cell_type": "code",
   "execution_count": null,
   "metadata": {},
   "outputs": [],
   "source": [
    "## 3. Understanding Reconstruction\n",
    "\n",
    "The reconstructed matrix fills in the zeros (unrated items) with predictions.\n"
   ]
  },
  {
   "cell_type": "code",
   "execution_count": null,
   "id": "3f22b4bd",
   "metadata": {},
   "outputs": [],
   "source": [
    "print(\"\\nReconstructed Matrix:\")\n",
    "print(np.round(reconstructed, 2))\n",
    "\n",
    "# Show predictions for unrated items\n",
    "print(\"\\nPredictions for unrated items (where original was 0):\")\n",
    "for i in range(ratings.shape[0]):\n",
    "    for j in range(ratings.shape[1]):\n",
    "        if ratings[i,j] == 0:\n",
    "            print(f\"User {i}, Item {j}: {reconstructed[i,j]:.2f}\")\n"
   ]
  },
  {
   "cell_type": "code",
   "execution_count": null,
   "metadata": {},
   "outputs": [],
   "source": [
    "## 4. Visualization (Optional - requires matplotlib)\n",
    "\n",
    "If matplotlib is available, we can visualize the matrices as heatmaps.\n"
   ]
  },
  {
   "cell_type": "code",
   "execution_count": null,
   "id": "f641eb80",
   "metadata": {},
   "outputs": [],
   "source": [
    "try:\n",
    "    import matplotlib.pyplot as plt\n",
    "    \n",
    "    fig, (ax1, ax2) = plt.subplots(1, 2, figsize=(10, 4))\n",
    "    \n",
    "    # Original matrix\n",
    "    im1 = ax1.imshow(ratings, cmap='YlOrRd', aspect='auto')\n",
    "    ax1.set_title('Original Ratings')\n",
    "    ax1.set_xlabel('Items')\n",
    "    ax1.set_ylabel('Users')\n",
    "    plt.colorbar(im1, ax=ax1)\n",
    "    \n",
    "    # Reconstructed matrix\n",
    "    im2 = ax2.imshow(reconstructed, cmap='YlOrRd', aspect='auto')\n",
    "    ax2.set_title('SVD Reconstruction')\n",
    "    ax2.set_xlabel('Items')\n",
    "    ax2.set_ylabel('Users')\n",
    "    plt.colorbar(im2, ax=ax2)\n",
    "    \n",
    "    plt.tight_layout()\n",
    "    plt.show()\n",
    "    \n",
    "except ImportError:\n",
    "    print(\"Matplotlib not installed. Install with: pip install matplotlib\")\n",
    "    print(\"The demo works fine without plots!\")\n"
   ]
  },
  {
   "cell_type": "code",
   "execution_count": null,
   "metadata": {},
   "outputs": [],
   "source": [
    "## 5. Making Recommendations\n",
    "\n",
    "Now we can recommend items to users based on the reconstructed ratings.\n"
   ]
  },
  {
   "cell_type": "code",
   "execution_count": null,
   "id": "12b21057",
   "metadata": {},
   "outputs": [],
   "source": [
    "from vector_recsys_lite import top_n\n",
    "\n",
    "# Get top 2 recommendations for each user\n",
    "recommendations = top_n(reconstructed, ratings, n=2)\n",
    "\n",
    "print(\"Top-2 Recommendations per User:\")\n",
    "for user_id, recs in enumerate(recommendations):\n",
    "    print(f\"User {user_id}: Items {recs}\")\n"
   ]
  },
  {
   "cell_type": "code",
   "execution_count": null,
   "metadata": {},
   "outputs": [],
   "source": [
    "## 6. Key Takeaways\n",
    "\n",
    "1. **SVD reduces dimensionality**: From many items to k latent features\n",
    "2. **Latent features capture patterns**: e.g., genre preferences\n",
    "3. **Missing ratings are predicted**: Based on similar users/items\n",
    "4. **Lightweight computation**: Runs fast even on old hardware\n",
    "\n",
    "This demo uses ~1MB RAM and runs in <1 second!\n"
   ]
  }
 ],
 "metadata": {
  "language_info": {
   "name": "python"
  }
 },
 "nbformat": 4,
 "nbformat_minor": 5
}
